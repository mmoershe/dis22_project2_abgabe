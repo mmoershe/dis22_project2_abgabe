{
 "cells": [
  {
   "cell_type": "code",
   "execution_count": 2,
   "id": "1d3d40ef",
   "metadata": {},
   "outputs": [
    {
     "name": "stdout",
     "output_type": "stream",
     "text": [
      "Realistische dummy_words: {'ADJ': 'academic', 'NOUN': 'students', 'PROPN': 'yearpublished<=2025', 'VERB': 'learning', 'DET': 'the', 'ADP': 'of', 'NUM': 'yearpublished<=2024', 'CCONJ': 'and', 'PUNCT': '.', 'SPACE': ' ', 'PART': 'to', 'PRON': 'their', 'SCONJ': 'how', 'SYM': '-', 'AUX': 'do'}\n"
     ]
    }
   ],
   "source": [
    "import pandas as pd\n",
    "import spacy\n",
    "from collections import defaultdict, Counter\n",
    "\n",
    "# Lade spaCy Englisch-Modell\n",
    "nlp = spacy.load(\"en_core_web_sm\")\n",
    "\n",
    "# Lade die CSV-Datei\n",
    "df = pd.read_csv(\"predetermined_queries_TASK_A.csv\", header=None)\n",
    "queries = df[3].dropna().astype(str).tolist()\n",
    "\n",
    "# POS → Wörter sammeln\n",
    "pos_to_words = defaultdict(list)\n",
    "\n",
    "for query in queries:\n",
    "    doc = nlp(query)\n",
    "    for token in doc:\n",
    "        pos_to_words[token.pos_].append(token.text.lower())\n",
    "\n",
    "# Die häufigsten Wörter pro POS auswählen\n",
    "dummy_words = {\n",
    "    pos: Counter(words).most_common(1)[0][0]\n",
    "    for pos, words in pos_to_words.items()\n",
    "}\n",
    "\n",
    "# Ergänze Sonderfälle\n",
    "dummy_words[\"SPACE\"] = \" \"\n",
    "dummy_words[\"PUNCT\"] = \".\"\n",
    "\n",
    "print(\"Realistische dummy_words:\", dummy_words)\n"
   ]
  },
  {
   "cell_type": "code",
   "execution_count": 1,
   "id": "143bc1f2",
   "metadata": {},
   "outputs": [
    {
     "name": "stdout",
     "output_type": "stream",
     "text": [
      "ADJ: ['academic', 'financial', 'social', 'teenage', 'short', 'genital', 'senior', 'high', 'personal', 'cultural']\n",
      "NOUN: ['students', 'school', 'media', 'effects', 'regulations', 'corporation', 'literacy', 'experience', 'impact', 'grade']\n",
      "PROPN: ['yearpublished<=2025', 'philippines', 'high', 'school', 'senior', 'yearpublished>=2018', 'egypt', 'social', 'thailand', 'yearpublished>=2020']\n",
      "VERB: ['learning', 'discussing', 'assessing', 'understanding', 'lived', 'encounter', 'related', 'love', 'ai', 'calling']\n",
      "NUM: ['yearpublished<=2024', '11', '2024', '2020', '2018', '2015', '5', '9']\n",
      "SPACE: [' ']\n",
      "PRON: ['oneself']\n",
      "PUNCT: ['.']\n",
      "PART: ['to']\n",
      "SCONJ: ['how', 'because', 'although']\n"
     ]
    }
   ],
   "source": [
    "import pandas as pd\n",
    "import spacy\n",
    "from collections import defaultdict, Counter\n",
    "\n",
    "# Lade spaCy Englisch-Modell\n",
    "nlp = spacy.load(\"en_core_web_sm\")\n",
    "\n",
    "# Lade die CSV-Datei\n",
    "df = pd.read_csv(\"predetermined_queries_TASK_A.csv\", header=None)\n",
    "queries = df[3].dropna().astype(str).tolist()\n",
    "\n",
    "# POS → Wörter sammeln\n",
    "pos_to_words = defaultdict(list)\n",
    "\n",
    "for query in queries:\n",
    "    doc = nlp(query)\n",
    "    for token in doc:\n",
    "        if not token.is_stop and not token.is_punct:\n",
    "            pos_to_words[token.pos_].append(token.text.lower())\n",
    "\n",
    "# Top 5 häufigste Wörter pro POS\n",
    "dummy_words = {\n",
    "    pos: [w for w, _ in Counter(words).most_common(10)]\n",
    "    for pos, words in pos_to_words.items()\n",
    "}\n",
    "\n",
    "# Ergänze Sonderfälle\n",
    "dummy_words[\"SPACE\"] = [\" \"]\n",
    "dummy_words[\"PUNCT\"] = [\".\"]\n",
    "dummy_words.setdefault(\"PART\", [\"to\"])\n",
    "dummy_words.setdefault(\"SCONJ\", [\"how\", \"because\", \"although\"])\n",
    "dummy_words.setdefault(\"PRON\", [\"they\", \"their\", \"it\", \"we\", \"you\"])\n",
    "\n",
    "# Beispielausgabe\n",
    "for pos, words in dummy_words.items():\n",
    "    print(f\"{pos}: {words}\")\n"
   ]
  }
 ],
 "metadata": {
  "kernelspec": {
   "display_name": "venv",
   "language": "python",
   "name": "python3"
  },
  "language_info": {
   "codemirror_mode": {
    "name": "ipython",
    "version": 3
   },
   "file_extension": ".py",
   "mimetype": "text/x-python",
   "name": "python",
   "nbconvert_exporter": "python",
   "pygments_lexer": "ipython3",
   "version": "3.11.4"
  }
 },
 "nbformat": 4,
 "nbformat_minor": 5
}
